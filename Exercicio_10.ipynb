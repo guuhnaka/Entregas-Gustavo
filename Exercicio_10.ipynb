{
 "cells": [
  {
   "cell_type": "markdown",
   "metadata": {},
   "source": [
    "Nome: Gustavo Nakaura de Carvalho |||| Ra: 816253667"
   ]
  },
  {
   "cell_type": "markdown",
   "metadata": {},
   "source": [
    "1 Faça um Programa que peça dois números e imprima o maior deles."
   ]
  },
  {
   "cell_type": "code",
   "execution_count": 1,
   "metadata": {},
   "outputs": [
    {
     "name": "stdout",
     "output_type": "stream",
     "text": [
      "Digite o primeiro número: 5\n",
      "Digite o segundo número:  7\n",
      "O maior número é : 7\n"
     ]
    }
   ],
   "source": [
    "n1  = int(input(\"Digite o primeiro número: \"))\n",
    "n2 = int(input(\"Digite o segundo número:  \"))\n",
    "\n",
    "if n1 > n2:\n",
    "    print(\"O maior número é : {}\".format(n1))\n",
    "else:\n",
    "    print(\"O maior número é : {}\".format(n2))"
   ]
  },
  {
   "cell_type": "markdown",
   "metadata": {},
   "source": [
    "2 Faça um Programa que verifique se uma letra digitada é vogal ou consoante."
   ]
  },
  {
   "cell_type": "code",
   "execution_count": 2,
   "metadata": {},
   "outputs": [
    {
     "name": "stdout",
     "output_type": "stream",
     "text": [
      "Digite uma letra: p\n",
      "É consoante!\n"
     ]
    }
   ],
   "source": [
    "string = input(\"Digite uma letra: \")\n",
    "if string in ['a','e','i','o','u']:\n",
    "    print('É vogal!')\n",
    "else:\n",
    "    print('É consoante!')"
   ]
  },
  {
   "cell_type": "markdown",
   "metadata": {},
   "source": [
    "3 Faça um programa para a leitura de duas notas parciais de um aluno. O programa\n",
    "deve calcular a média alcançada por aluno e apresentar:\n",
    "- A mensagem \"Aprovado\", se a média alcançada for maior ou igual a sete;\n",
    "- A mensagem \"Reprovado\", se a média for menor do que sete;\n",
    "- A mensagem \"Aprovado com Distinção\", se a média for igual a dez."
   ]
  },
  {
   "cell_type": "code",
   "execution_count": 4,
   "metadata": {},
   "outputs": [
    {
     "name": "stdout",
     "output_type": "stream",
     "text": [
      "Digite sua nota: 9\n",
      "Digite sua 2° nota: 7\n",
      "Parabéns! Você foi aprovado!\n"
     ]
    }
   ],
   "source": [
    "nota1 = int(input('Digite sua nota: '))\n",
    "nota2 = int(input('Digite sua 2° nota: '))\n",
    "\n",
    "media = (nota1 + nota2) / 2\n",
    "\n",
    "if media >= 7 and nota1 < 10:     \n",
    "    print ('Parabéns! Você foi aprovado!')\n",
    "elif media >= 10:\n",
    "    print ('Você foi aprovado com distinção!')    \n",
    "else:\n",
    "    print ('Infelizmente você foi reprovado!')"
   ]
  },
  {
   "cell_type": "markdown",
   "metadata": {},
   "source": [
    "4 Faça um Programa que leia três números e mostre-os em ordem decrescente."
   ]
  },
  {
   "cell_type": "code",
   "execution_count": 5,
   "metadata": {},
   "outputs": [
    {
     "name": "stdout",
     "output_type": "stream",
     "text": [
      "Digite o primeiro número: 7\n",
      "Digite o segundo número: 5\n",
      "Digite o terceiro número: 3\n",
      "7 5 3\n"
     ]
    }
   ],
   "source": [
    "n1 = int(input(\"Digite o primeiro número: \"))\n",
    "n2 = int(input(\"Digite o segundo número: \"))\n",
    "n3 = int(input(\"Digite o terceiro número: \"))\n",
    "\n",
    "if n1 < n2 and n1 < n3 and n3 < n2:\n",
    "    print(n2,n3,n1)\n",
    "elif n2 < n1 and n2 < n3 and n1 < n3: \n",
    "    print(n3,n1,n2)\n",
    "elif n3 < n1 and n3 < n2 and n1 < n2:     \n",
    "    print(n2,n1,n3)\n",
    "elif n1<n2 and n2<n3 and n1<n3:\n",
    "    print(n3,n2,n1)\n",
    "elif n2<n3 and n3<n1 and n3<n1:\n",
    "    print(n1,n3,n2)\n",
    "else:\n",
    "    print(n1,n2,n3)"
   ]
  },
  {
   "cell_type": "markdown",
   "metadata": {},
   "source": [
    "5 As Organizações Tabajara resolveram dar um aumento de salário aos seus\n",
    "colaboradores e lhe contrataram para desenvolver o programa que calculará os\n",
    "reajustes.\n",
    "Faça um programa que recebe o salário de um colaborador e o reajuste segundo o\n",
    "seguinte critério, baseado no salário atual:\n",
    "- salários até R$ 280,00 (incluindo) : aumento de 20%\n",
    "- salários entre R$ 280,00 e R$ 700,00 : aumento de 15%\n",
    "- salários entre R$ 700,00 e R$ 1500,00 : aumento de 10%\n",
    "- salários de R$ 1500,00 em diante : aumento de 5% Após o aumento ser realizado,\n",
    "informe na tela:\n",
    "- o salário antes do reajuste;\n",
    "- o percentual de aumento aplicado;\n",
    "- o valor do aumento;\n",
    "- o novo salário, após o aumento."
   ]
  },
  {
   "cell_type": "code",
   "execution_count": 9,
   "metadata": {},
   "outputs": [
    {
     "name": "stdout",
     "output_type": "stream",
     "text": [
      "Digite seu sálario: 4500\n",
      "Salário antes do reajuste: 4500.0 R$\n",
      "Percentual de aumento aplicado: 225.0\n",
      "Novo sálario: 4725.0 R$\n"
     ]
    }
   ],
   "source": [
    "salario = float(input(\"Digite seu sálario: \"))\n",
    "\n",
    "if salario <= 280.00:\n",
    "    plus = salario * 20/100\n",
    "elif salario > 280.00 and salario < 700.00:\n",
    "    plus = salario * 15/100\n",
    "elif salario > 700.00 and salario < 1500.00:\n",
    "    plus = salario * 10/100\n",
    "elif salario > 1500.00:\n",
    "    plus = salario * 5/100\n",
    "\n",
    "novo = salario + plus    \n",
    "print(\"Salário antes do reajuste: {} R$\\nPercentual de aumento aplicado: {}\\nNovo sálario: {} R$\".format(salario,plus,novo))"
   ]
  },
  {
   "cell_type": "markdown",
   "metadata": {},
   "source": [
    "6 Faça um Programa que leia um número e exiba o dia correspondente da semana. (1-Domingo, 2- Segunda, etc.), se digitar outro valor deve aparecer valor inválido"
   ]
  },
  {
   "cell_type": "code",
   "execution_count": 10,
   "metadata": {},
   "outputs": [
    {
     "name": "stdout",
     "output_type": "stream",
     "text": [
      "Digite o dia da semana 8\n",
      "INVALIDO\n"
     ]
    }
   ],
   "source": [
    "dia = int(input(\"Digite o dia da semana \"))\n",
    "\n",
    "if dia == 1:\n",
    "    print(\"O dia da semana é: Domingo\")\n",
    "elif dia == 2:\n",
    "    print(\"O dia da semana é: Segunda\")\n",
    "elif dia == 3:\n",
    "    print(\"O dia da semana é: Terça\")\n",
    "elif dia == 4:\n",
    "    print(\"O dia da semana é: Quarta\")\n",
    "elif dia == 5:\n",
    "    print(\"O dia da semana é: Quinta\")\n",
    "elif dia == 6:\n",
    "    print(\"O dia da semana é: Sexta\")\n",
    "elif dia == 7:\n",
    "    print(\"O dia da semana é: Sábado\")\n",
    "else:\n",
    "    print ('INVALIDO')"
   ]
  },
  {
   "cell_type": "markdown",
   "metadata": {},
   "source": [
    "7 Faça um programa que lê as duas notas parciais obtidas por um aluno numa disciplina ao longo de um semestre, e calcule a sua média. A atribuição de conceitos obedece à tabela abaixo: Média de Aproveitamento Conceito Entre 9.0 e 10.0 A Entre 7.5 e 9.0 B Entre 6.0 e 7.5 C Entre 4.0 e 6.0 D Entre 4.0 e zero E O algoritmo deve mostrar na tela as notas, a média, o conceito correspondente e a mensagem “APROVADO” se o conceito for A, B ou C ou “REPROVADO” se o conceito for D ou E."
   ]
  },
  {
   "cell_type": "code",
   "execution_count": 11,
   "metadata": {},
   "outputs": [
    {
     "name": "stdout",
     "output_type": "stream",
     "text": [
      "Digite a primeira nota: 10\n",
      "Digite a segunda nota: 5\n",
      "APROVADO -> B\n"
     ]
    }
   ],
   "source": [
    "n1 = float(input(\"Digite a primeira nota: \"))\n",
    "n2 = float(input(\"Digite a segunda nota: \"))\n",
    "\n",
    "media = (n1 + n2)/2\n",
    "\n",
    "if media >= 9 and media <= 10:\n",
    "    print(\"APROVADO -> A\")\n",
    "elif media >= 7.5 and media < 9:\n",
    "    print(\"APROVADO -> B\")\n",
    "elif media >= 6 and media < 7.5:\n",
    "    print(\"APROVADO -> C\")\n",
    "elif media >= 4 and media < 6:\n",
    "    print(\"REPROVADO -> D\")\n",
    "else:\n",
    "    print(\"REPROVADO -> E\")"
   ]
  },
  {
   "cell_type": "markdown",
   "metadata": {},
   "source": [
    "8 Faça um Programa que peça os 3 lados de um triângulo. O programa deverá\n",
    "informar se os valores podem ser um triângulo. Indique, caso os lados formem um\n",
    "triângulo, se o mesmo é: equilátero, isósceles ou escaleno.\n",
    "Dicas:\n",
    "- Três lados formam um triângulo quando a soma de quaisquer dois lados for maior\n",
    "que o terceiro;\n",
    "- Triângulo Equilátero: três lados iguais;\n",
    "- Triângulo Isósceles: quaisquer dois lados iguais;\n",
    "- Triângulo Escaleno: três lados diferentes;"
   ]
  },
  {
   "cell_type": "code",
   "execution_count": 12,
   "metadata": {},
   "outputs": [
    {
     "name": "stdout",
     "output_type": "stream",
     "text": [
      "Digite o tamanho do primeiro lado: 7\n",
      "Digite o segundo lado: 8\n",
      "Digite o terceiro lado: 3\n",
      "Triângulo Escaleno\n"
     ]
    }
   ],
   "source": [
    "l1 = input('Digite o tamanho do primeiro lado: ')\n",
    "l2 = input('Digite o segundo lado: ')\n",
    "l3 = input('Digite o terceiro lado: ')\n",
    "\n",
    "if l1 + l2 > l3:\n",
    "    if l1 == l2 and l1 == l3:\n",
    "        print('Triângulo Equilátero')\n",
    "    elif l1 == l2 or l2 == l3 or l1 == l3:\n",
    "        print('Triângulo Isósceles')\n",
    "    elif l1 != l2 and l3 or l2 != l1 and l3 or l1 != l3:\n",
    "        print('Triângulo Escaleno')\n",
    "else:\n",
    "    print('Não é um triângulo')"
   ]
  },
  {
   "cell_type": "markdown",
   "metadata": {},
   "source": [
    " 9 Faça um programa que calcule as raízes de uma equação do segundo grau, na\n",
    "forma ax2 + bx + c. O programa deverá pedir os valores de a, b e c e fazer as\n",
    "consistências, informando ao usuário nas seguintes situações:\n",
    "- Se o usuário informar o valor de A igual a zero, a equação não é do segundo grau e\n",
    "o programa não deve fazer pedir os demais valores, sendo encerrado;\n",
    "- Se o delta calculado for negativo, a equação não possui raizes reais. Informe ao\n",
    "usuário e encerre o programa;\n",
    "- Se o delta calculado for igual a zero a equação possui apenas uma raiz real;\n",
    "informe-a ao usuário;\n",
    "- Se o delta for positivo, a equação possui duas raiz reais; informe-as ao usuário;"
   ]
  },
  {
   "cell_type": "code",
   "execution_count": 13,
   "metadata": {},
   "outputs": [
    {
     "name": "stdout",
     "output_type": "stream",
     "text": [
      "Digite os termos da equacao a, b e c da equacao ax^2 + bx + c\n",
      "Digite o termo a ---> 4\n",
      "Digite o termo b  ---> 3\n",
      "Digite o termo c ---> 5\n",
      "Delta = -71.0 a equacao nao possui raizes reais\n"
     ]
    }
   ],
   "source": [
    "import math\n",
    "\n",
    "print(\"Digite os termos da equacao a, b e c da equacao ax^2 + bx + c\")\n",
    "a = float(input(\"Digite o termo a ---> \"))\n",
    "if a == 0:\n",
    "    print(\"nao e uma equacao de segundo grau\")\n",
    "else:\n",
    "    b = float(input(\"Digite o termo b  ---> \"))\n",
    "    c = float(input(\"Digite o termo c ---> \"))\n",
    "    delta = (math.pow(b,2) - (4*a*c))\n",
    "if delta < 0:\n",
    "    print(\"Delta = {} a equacao nao possui raizes reais\".format(delta))\n",
    "if delta == 0:\n",
    "    print(\"Delta = {} a equacao possui uma raiz\".format(delta))\n",
    "    raiz = ((-1)*b + math.sqrt(delta))/(2*a)\n",
    "    print(\"Raiz da equacao = {}\".format(raiz))\n",
    "if delta > 0:\n",
    "    print(\"Delta = {} a equacao possui duas raizes\".format(delta))\n",
    "    raiz1 = ((-1)*b + math.sqrt(delta))/(2*a)\n",
    "    raiz2 = ((-1)*b - math.sqrt(delta))/(2*a)\n",
    "    print(\"Raiz 1 da equacao = \".format(raiz1))\n",
    "    print(\"Raiz 2 da equacao = \".format(raiz2))"
   ]
  },
  {
   "cell_type": "markdown",
   "metadata": {},
   "source": [
    "10 Faça um Programa para um caixa eletrônico. O programa deverá perguntar ao\n",
    "usuário a valor do saque e depois informar quantas notas de cada valor serão\n",
    "fornecidas. As notas disponíveis serão as de 1, 5, 10, 50 e 100 reais. O valor mínimo é\n",
    "de 10 reais e o máximo de 600 reais. O programa não deve se preocupar com a\n",
    "quantidade de notas existentes na máquina.\n",
    "- Exemplo 1: Para sacar a quantia de 256 reais, o programa fornece duas notas de\n",
    "100, uma nota de 50, uma nota de 5 e uma nota de 1;\n",
    "- Exemplo 2: Para sacar a quantia de 399 reais, o programa fornece três notas de\n",
    "100, uma nota de 50, quatro notas de 10, uma nota de 5 e quatro notas de 1."
   ]
  },
  {
   "cell_type": "code",
   "execution_count": 15,
   "metadata": {},
   "outputs": [
    {
     "name": "stdout",
     "output_type": "stream",
     "text": [
      "Digite o valor do saque: 50\n",
      "1 notas de R$ 50\n"
     ]
    }
   ],
   "source": [
    "saque = int(input(\"Digite o valor do saque: \"))\n",
    "\n",
    "if 10 <= saque <= 600:\n",
    "    notasdeCem = saque // 100\n",
    "    saque = saque % 100\n",
    "\n",
    "    notasdeCinquenta = saque // 50\n",
    "    saque = saque % 50\n",
    "\n",
    "    notasdeDez = saque // 10\n",
    "    saque = saque % 10\n",
    "\n",
    "    notasdeCinco = saque // 5\n",
    "    saque = saque % 5\n",
    "\n",
    "    notasdeUm = saque // 1\n",
    "\n",
    "    if notasdeCem > 0:\n",
    "        print(notasdeCem, \"notas de R$ 100\")\n",
    "    if notasdeCinquenta > 0:\n",
    "        print(notasdeCinquenta, \"notas de R$ 50\")\n",
    "    if notasdeDez > 0:\n",
    "        print(notasdeDez, \"notas de R$ 10\")\n",
    "    if notasdeCinco > 0:\n",
    "        print(notasdeCinco, \"notas de R$ 5\")\n",
    "    if notasdeUm > 0:\n",
    "        print(notasdeUm, \"notas de R$ 1\")\n",
    "              \n",
    "else:\n",
    "    print(\"Nao é possivel fazer o saque\")"
   ]
  },
  {
   "cell_type": "markdown",
   "metadata": {},
   "source": [
    "11 Faça um programa que faça 5 perguntas para uma pessoa sobre um crime. As\n",
    "perguntas são:\n",
    "\"Telefonou para a vítima?\"\n",
    "\"Esteve no local do crime?\"\n",
    "\"Mora perto da vítima?\"\n",
    "\"Devia para a vítima?\"\n",
    "\"Já trabalhou com a vítima?\"\n",
    "O programa deve no final emitir uma classificação sobre a participação da pessoa no\n",
    "crime. Se a pessoa responder positivamente a 2 questões ela deve ser classificada\n",
    "como \"Suspeita\", entre 3 e 4 como \"Cúmplice\" e 5 como \"Assassino\". Caso contrário,\n",
    "ele será classificado como \"Inocente\"."
   ]
  },
  {
   "cell_type": "code",
   "execution_count": 16,
   "metadata": {},
   "outputs": [
    {
     "name": "stdout",
     "output_type": "stream",
     "text": [
      "Lembre-se 1 para sim e 0 para não\n",
      "Telefonou para a vítima? 1\n",
      "Esteve no local do crime? 1\n",
      "Mora perto da vítima? 1\n",
      "Devia para a vítima? 0\n",
      "Já trabalhou com a vítima? 1\n",
      "Cúmplice\n"
     ]
    }
   ],
   "source": [
    "print(\"Lembre-se 1 para sim e 0 para não\")\n",
    "\n",
    "p1  = int(input(\"Telefonou para a vítima? \"))\n",
    "p2 = int(input(\"Esteve no local do crime? \"))\n",
    "p3 = int(input(\"Mora perto da vítima? \"))\n",
    "p4 = int(input(\"Devia para a vítima? \"))\n",
    "p5 = int(input(\"Já trabalhou com a vítima? \"))\n",
    "\n",
    "res = p1 + p2 + p3+ p4 + p5\n",
    "\n",
    "if res == 2:\n",
    "    print(\"Suspeita\")\n",
    "elif res == 3 or res == 4:\n",
    "    print(\"Cúmplice\")\n",
    "elif res == 5:\n",
    "    print(\"Assassino\")\n",
    "else:\n",
    "    print(\"Inocente\")"
   ]
  },
  {
   "cell_type": "markdown",
   "metadata": {},
   "source": [
    "12 Uma fruteira está vendendo frutas com a seguinte tabela de preços:\n",
    "Até 5 Kg Acima de 5 Kg\n",
    "Morango R$ 2,50 por Kg R$ 2,20 por Kg\n",
    "Maçã R$ 1,80 por Kg R$ 1,50 por Kg\n",
    "Se o cliente comprar mais de 8 Kg em frutas ou o valor total da compra ultrapassar\n",
    "R$ 25,00, receberá ainda um desconto de 10% sobre este total. Escreva um\n",
    "algoritmo para ler a quantidade (em Kg) de morangos e a quantidade (em Kg) de\n",
    "maças adquiridas e escreva o valor a ser pago pelo cliente."
   ]
  },
  {
   "cell_type": "code",
   "execution_count": null,
   "metadata": {},
   "outputs": [],
   "source": [
    "morango = float(input(\"Digite a quantidade (em kg) de morangos \"))\n",
    "maca   = float(input(\"Digite a quantidade (em kg) de maçãs \"))\n",
    "\n",
    "if morango < 5 and maca < 5:\n",
    "    quantidade = morango + maca\n",
    "    precoMorango = morango * 2.50\n",
    "    precoMaca = maca * 1.50\n",
    "    valor = precoMorango + precoMaca\n",
    "    if quantidade > 8 or valor > 25:\n",
    "        des = valor * 10/100\n",
    "        novo = valor - des\n",
    "        print(\"Valor a ser pago R${}\".format(novo))\n",
    "    else:\n",
    "        print(\"Valor a ser pago R${}\".format(valor))\n",
    "else:\n",
    "    print(\"Quantidade acima do permitido.\")"
   ]
  },
  {
   "cell_type": "markdown",
   "metadata": {},
   "source": [
    "13 Faça um programa que peça uma nota, entre zero e dez. Mostre uma mensagem\n",
    "caso o valor seja inválido e continue pedindo até que o usuário informe um valor\n",
    "válido."
   ]
  },
  {
   "cell_type": "code",
   "execution_count": null,
   "metadata": {},
   "outputs": [],
   "source": [
    "n = 0\n",
    "while n >= 0 and n <= 10:\n",
    "    n = int(input(\"Digite uma nota entre 0 e 10:  \"))\n",
    "\n",
    "else:\n",
    "    print(\"Acabou!\")"
   ]
  },
  {
   "cell_type": "markdown",
   "metadata": {},
   "source": [
    "14 Faça um programa que leia e valide as seguintes informações: Nome: maior que 3 caracteres; Idade: entre 0 e 150; Salário: maior que zero; Sexo: 'f' ou 'm'; Estado Civil: 's', 'c', 'v', 'd';"
   ]
  },
  {
   "cell_type": "code",
   "execution_count": null,
   "metadata": {},
   "outputs": [],
   "source": [
    "nome = input(\"Digite seu nome: (digite mais que 3 caracteres)\")\n",
    "i = int(input(\"Digite sua idade: (entre 0 e 150)\"))\n",
    "s = float(input(\"Digite seu sálario: (maior que zero) \"))\n",
    "sex = input(\"Digite seu sexo: ('f' ou 'm') \")\n",
    "es = input(\"Digite seu estado civil: ('s', 'c', 'v', 'd')\")\n",
    "\n",
    "if len(nome) > 3:\n",
    "    print(\"Nome: {}\".format(nome))\n",
    "else:\n",
    "    nome = input(\"Digite seu nome novamente \")\n",
    "    print(\"Nome: {}\".format(nome))\n",
    "if s > 0:\n",
    "    print(\"Sálario: {} R$\".format(s))\n",
    "else:\n",
    "    s = input(\"Digite seu sálario novamente \")\n",
    "if sex == 'f' or 'm':\n",
    "    if sex == 'f':\n",
    "        print(\"Sexo Feminino\")\n",
    "    else:\n",
    "        print(\"Sexo Masculino\")\n",
    "else:\n",
    "    sex = input(\"Digite seu sexo novamente\")\n",
    "if es == 's' or 'c' or 'v' or 'd':\n",
    "    print(\"Estado civil: {}\".format(es))\n",
    "else:\n",
    "    es = input(\"Digite seu estado civil novamente\")\n",
    "if i >= 0 and i <=150:\n",
    "    print(\"Idade: {}\".format(i))\n",
    "else:\n",
    "    i = input(\"Digite sua idade *novamente\")"
   ]
  },
  {
   "cell_type": "markdown",
   "metadata": {},
   "source": [
    "15 Faça um programa que leia 5 números e informe o maior número."
   ]
  },
  {
   "cell_type": "code",
   "execution_count": null,
   "metadata": {},
   "outputs": [],
   "source": [
    "n1 = int(input(\"Digite 1 número: \"))\n",
    "n2 = int(input(\"Digite 2 número: \"))\n",
    "n3 = int(input(\"Digite 3 número: \"))\n",
    "n4 = int(input(\"Digite 4 número: \"))\n",
    "n5 = int(input(\"Digite 5 número: \"))\n",
    "\n",
    "if n1 > n2 and n > n3 and n1 > n4 and n1 > n5:\n",
    "    print(n)\n",
    "elif n2 > n3 and n2 > n4 and n2 > n5 and n2 > n:\n",
    "    print(n2)\n",
    "elif n3 > n2 and n3 > n1 and n3 > n4 and n3 > n5:\n",
    "    print(n3)\n",
    "elif n4 > n2 and n4 > n1 and n4 > n3 and n4 > n5:\n",
    "    print(n4)\n",
    "else:\n",
    "    print(n5)"
   ]
  },
  {
   "cell_type": "markdown",
   "metadata": {},
   "source": [
    "16 Faça um programa que leia 5 números e informe a soma e a média dos números"
   ]
  },
  {
   "cell_type": "code",
   "execution_count": null,
   "metadata": {},
   "outputs": [],
   "source": [
    "n1 = int(input(\"Digite 1 número \"))\n",
    "n2 = int(input(\"Digite 2 número \"))\n",
    "n3 = int(input(\"Digite 3 número \"))\n",
    "n4 = int(input(\"Digite 4 número \"))\n",
    "n5 = int(input(\"Digite 5 número \"))\n",
    "\n",
    "soma = n1 + n2 + n3 +n4 +n5\n",
    "media = soma/5\n",
    "\n",
    "print(\"Soma: {} Média:{}\".format(soma,media))"
   ]
  },
  {
   "cell_type": "markdown",
   "metadata": {},
   "source": [
    "17  Faça um programa que imprima na tela apenas os números ímpares entre 1 e 50"
   ]
  },
  {
   "cell_type": "code",
   "execution_count": null,
   "metadata": {},
   "outputs": [],
   "source": [
    "i = 0\n",
    "impar = \"\"\n",
    "while i <= 49:\n",
    "    i += 1\n",
    "    if i%2 != 0:\n",
    "        impar += str(i) + \" \"\n",
    "        \n",
    "else:\n",
    "    print(\"Impares: {}\".format(impar))"
   ]
  },
  {
   "cell_type": "markdown",
   "metadata": {},
   "source": [
    "18 Desenvolva um gerador de tabuada, capaz de gerar a tabuada de qualquer número inteiro entre 1 a 10. O usuário deve informar de qual numero ele deseja ver a tabuada. A saída deve ser conforme o exemplo abaixo: Tabuada de 5: 5 X 1 = 5 5 X 2 = 10 ... 5 X 10 = 50"
   ]
  },
  {
   "cell_type": "code",
   "execution_count": null,
   "metadata": {},
   "outputs": [],
   "source": [
    "n1= int(input(\"Digite o número da tabuada \"))\n",
    "mult = 0\n",
    "if n1 >= 1 and n <= 10:\n",
    "    c = 1\n",
    "    while c <= 10:\n",
    "        mult = n1 * c\n",
    "        print(\"{} X {} = {}\".format(n1,c,mult))\n",
    "        c += 1\n",
    "    else:\n",
    "        print(\"Acabou\")\n",
    "else:\n",
    "    print(\"Algo errado\")"
   ]
  },
  {
   "cell_type": "markdown",
   "metadata": {},
   "source": [
    "19 A série de Fibonacci é formada pela seqüência 1,1,2,3,5,8,13,21,34,55,... Faça um programa capaz de gerar a série até o n−ésimo termo."
   ]
  },
  {
   "cell_type": "code",
   "execution_count": 19,
   "metadata": {},
   "outputs": [
    {
     "name": "stdout",
     "output_type": "stream",
     "text": [
      "0 \n",
      "1 \n",
      "1 \n",
      "2 \n",
      "3 \n",
      "5 \n",
      "8 \n",
      "13 \n",
      "21 \n",
      "34 \n",
      "55 \n",
      "89 \n",
      "Acabou\n"
     ]
    }
   ],
   "source": [
    "a, b = 0, 1\n",
    "n1 = 99\n",
    "while a < n1:\n",
    "    print(a, end=' ')\n",
    "    a, b = b, a+b\n",
    "    print()\n",
    "else:\n",
    "    print(\"Acabou\")"
   ]
  },
  {
   "cell_type": "markdown",
   "metadata": {},
   "source": [
    "20 Faça um programa que calcule o fatorial de um número inteiro fornecido pelo usuário. Ex.: 5!=5.4.3.2.1=120"
   ]
  },
  {
   "cell_type": "code",
   "execution_count": 20,
   "metadata": {},
   "outputs": [
    {
     "name": "stdout",
     "output_type": "stream",
     "text": [
      "Fatorial de: 4\n",
      "4!= .4.3.2.1 = 24\n"
     ]
    }
   ],
   "source": [
    "num = int(input(\"Fatorial de: \") )\n",
    "\n",
    "resultado=1\n",
    "count=1\n",
    "mostrar = \"\"\n",
    "while count <= num:\n",
    "    resultado *= count\n",
    "    mostrar += str(count) + \".\"\n",
    "    count += 1\n",
    "\n",
    "print(\"{}!= {} = {}\".format(num,mostrar[::-1],resultado))"
   ]
  },
  {
   "cell_type": "markdown",
   "metadata": {},
   "source": [
    "21 O Sr. Manoel Joaquim possui uma grande loja de artigos de R$ 1,99, com cerca\n",
    "de 10 caixas. Para agilizar o cálculo de quanto cada cliente deve pagar ele\n",
    "desenvolveu um tabela que contém o número de itens que o cliente comprou e ao\n",
    "lado o valor da conta. Desta forma a atendente do caixa precisa apenas contar\n",
    "quantos itens o cliente está levando e olhar na tabela de preços. Você foi contratado\n",
    "para desenvolver o programa que monta esta tabela de preços, que conterá os\n",
    "preços de 1 até 50 produtos, conforme o exemplo abaixo:\n",
    "Lojas Quase Dois - Tabela de preços\n",
    "1 - R$ 1.99\n",
    "2 - R$ 3.98\n",
    "...\n",
    "50 - R$ 99.50"
   ]
  },
  {
   "cell_type": "code",
   "execution_count": 17,
   "metadata": {},
   "outputs": [
    {
     "name": "stdout",
     "output_type": "stream",
     "text": [
      "Quantos itens o cliente tem? 6\n",
      "Digite o preço do produto 5\n",
      "Digite o preço do produto 5\n",
      "Digite o preço do produto 30\n",
      "Digite o preço do produto 50\n",
      "Digite o preço do produto 40\n",
      "Digite o preço do produto 90\n",
      "Digite o preço do produto 60\n",
      "0 - R$ 5.0\n",
      "1 - R$ 5.0\n",
      "2 - R$ 30.0\n",
      "3 - R$ 50.0\n",
      "4 - R$ 40.0\n",
      "5 - R$ 90.0\n",
      "6 - R$ 60.0\n",
      "\n"
     ]
    }
   ],
   "source": [
    "itens = int(input(\"Quantos itens o cliente tem? \"))\n",
    "i = 0\n",
    "mostrar = \"\"\n",
    "if itens <= 50:\n",
    "    while i <= itens:\n",
    "        p = float(input(\"Digite o preço do produto \"))\n",
    "        mostrar += str(i) + \" - R$ \" + str(p) + \"\\n\"\n",
    "        i += 1\n",
    "    else:\n",
    "        print(mostrar)\n",
    "else:\n",
    "    print(\"Quantida acima de 50\")"
   ]
  },
  {
   "cell_type": "markdown",
   "metadata": {},
   "source": [
    "22 O Sr. Manoel Joaquim acaba de adquirir uma panificadora e pretende implantar\n",
    "a metodologia da tabelinha, que já é um sucesso na sua loja de 1,99. Você foi\n",
    "contratado para desenvolver o programa que monta a tabela de preços de pães, de\n",
    "1 até 50 pães, a partir do preço do pão informado pelo usuário, conforme o exemplo\n",
    "abaixo:\n",
    "Preço do pão: R$ 0.18\n",
    "Panificadora Pão de Ontem - Tabela de preços\n",
    "1 - R$ 0.18\n",
    "2 - R$ 0.36\n",
    "...\n",
    "50 - R$ 9.00"
   ]
  },
  {
   "cell_type": "code",
   "execution_count": 22,
   "metadata": {},
   "outputs": [
    {
     "name": "stdout",
     "output_type": "stream",
     "text": [
      "Quantos pães o cliente comprou? 5\n",
      "Digite o preço 1.20\n",
      "Digite o preço 2.20\n",
      "Digite o preço 3.40\n",
      "Digite o preço 5.60\n",
      "Digite o preço 1.00\n",
      "Digite o preço 1.00\n",
      "0 - R$ 1.2\n",
      "1 - R$ 2.2\n",
      "2 - R$ 3.4\n",
      "3 - R$ 5.6\n",
      "4 - R$ 1.0\n",
      "5 - R$ 1.0\n",
      "\n"
     ]
    }
   ],
   "source": [
    "itens = int(input(\"Quantos pães o cliente comprou? \"))\n",
    "i = 0\n",
    "mostrar = \"\"\n",
    "if itens <= 50:\n",
    "    while i <= itens:\n",
    "        p = float(input(\"Digite o preço \"))\n",
    "        mostrar += str(i) + \" - R$ \" + str(p) + \"\\n\"\n",
    "        i += 1\n",
    "    else:\n",
    "        print(mostrar)\n",
    "else:\n",
    "    print(\"Quantida acima de 50\")"
   ]
  },
  {
   "cell_type": "markdown",
   "metadata": {},
   "source": [
    "23 O Sr. Manoel Joaquim expandiu seus negócios para além dos negócios de 1,99 e\n",
    "agora possui uma loja de conveniências. Faça um programa que implemente uma\n",
    "caixa registradora rudimentar. O programa deverá receber um número\n",
    "desconhecido de valores referentes aos preços das mercadorias. Um valor zero deve\n",
    "ser informado pelo operador para indicar o final da compra. O programa deve então\n",
    "mostrar o total da compra e perguntar o valor em dinheiro que o cliente forneceu,\n",
    "para então calcular e mostrar o valor do troco. Após esta operação, o programa\n",
    "deverá voltar ao ponto inicial, para registrar a próxima compra. A saída deve ser\n",
    "conforme o exemplo abaixo:\n",
    "Lojas Tabajara\n",
    "Produto 1: R$ 2.20\n",
    "Produto 2: R$ 5.80\n",
    "Produto 3: R$ 0\n",
    "Total: R$ 9.00\n",
    "Dinheiro: R$ 20.00\n",
    "Troco: R$ 11.00\n",
    "..."
   ]
  },
  {
   "cell_type": "code",
   "execution_count": 2,
   "metadata": {},
   "outputs": [
    {
     "name": "stdout",
     "output_type": "stream",
     "text": [
      "Bem-vindo a Loja Gustavo Tabajara  - Lembre-se: para sair digite 0\n",
      "Digite o preço do produto 45\n",
      "Digite o preço do produto 20\n",
      "Digite o preço do produto 41\n",
      "Digite o preço do produto 60\n",
      "Digite o preço do produto 10\n",
      "Digite o preço do produto 0\n",
      "Digite o dinheiro fornecido 280\n",
      "Produto: 1: R$ 45.0\n",
      "Produto: 2: R$ 20.0\n",
      "Produto: 3: R$ 41.0\n",
      "Produto: 4: R$ 60.0\n",
      "Produto: 5: R$ 10.0\n",
      "Produto: 6: R$ 0.0\n",
      "\n",
      " Dinheiro: 280.0 R$\n",
      "Troco: 104.0 R$\n"
     ]
    }
   ],
   "source": [
    "print(\"Bem-vindo a Loja Gustavo Tabajara  - Lembre-se: para sair digite 0\")\n",
    "p = 1\n",
    "i = 1\n",
    "mostrar = \"\"\n",
    "total = 0\n",
    "while p != 0:\n",
    "    p = float(input(\"Digite o preço do produto \"))\n",
    "    mostrar += \"Produto: \" + str(i) + \": R$ \" + str(p) + \"\\n\"\n",
    "    total = total + p \n",
    "    i += 1\n",
    "else:\n",
    "    d = float(input(\"Digite o dinheiro fornecido \"))\n",
    "    troco = d - total\n",
    "    print(\"{}\\n Dinheiro: {} R$\\nTroco: {} R$\".format(mostrar,d,troco))"
   ]
  },
  {
   "cell_type": "markdown",
   "metadata": {},
   "source": [
    "24 Foi feita uma estatística em cinco cidades brasileiras para coletar dados sobre\n",
    "acidentes de trânsito. Foram obtidos os seguintes dados:\n",
    "- Código da cidade;\n",
    "- Número de veículos de passeio (em 1999);\n",
    "- Número de acidentes de trânsito com vítimas (em 1999). Deseja-se saber:\n",
    "- Qual o maior e menor índice de acidentes de transito e a que cidade pertence;\n",
    "- Qual a média de veículos nas cinco cidades juntas;\n",
    "- Qual a média de acidentes de trânsito nas cidades com menos de 2.000 veículos de\n",
    "passeio."
   ]
  },
  {
   "cell_type": "code",
   "execution_count": 6,
   "metadata": {},
   "outputs": [
    {
     "name": "stdout",
     "output_type": "stream",
     "text": [
      "Digite o código da cidade 11\n",
      "Digite o Número de veículos de passeio 520\n",
      "Digite o Número de acidentes de trânsito com vítimas 15\n",
      "\n",
      "\n",
      "Digite o código da cidade 15\n",
      "Digite o Número de veículos de passeio 650\n",
      "Digite o Número de acidentes de trânsito com vítimas 25\n",
      "\n",
      "\n",
      "Digite o código da cidade 16\n",
      "Digite o Número de veículos de passeio 250\n",
      "Digite o Número de acidentes de trânsito com vítimas 147\n",
      "\n",
      "\n",
      "Digite o código da cidade 13\n",
      "Digite o Número de veículos de passeio 258\n",
      "Digite o Número de acidentes de trânsito com vítimas 20\n",
      "\n",
      "\n",
      "Digite o código da cidade 10\n",
      "Digite o Número de veículos de passeio 256\n",
      "Digite o Número de acidentes de trânsito com vítimas 85\n",
      "\n",
      "\n",
      "Código: 16° Maior: 147\n",
      "Código: 11° Menor: 15\n",
      "Media entre as cidades: 0.0\n",
      "Media acidentes acima de 2.000: 386.8\n"
     ]
    }
   ],
   "source": [
    "i = 0\n",
    "acidMaior = 0\n",
    "acidMenor = 2000\n",
    "total = 0\n",
    "totalMenor= 0\n",
    "div = 0\n",
    "while i < 5:\n",
    "    cod = int(input(\"Digite o código da cidade \"))\n",
    "    num_v = int(input(\"Digite o Número de veículos de passeio \"))\n",
    "    num_a = int(input(\"Digite o Número de acidentes de trânsito com vítimas \"))\n",
    "    print(\"\\n\")\n",
    "    \n",
    "    if num_a > acidMaior:\n",
    "        acidMaior = num_a\n",
    "        m = cod\n",
    "    if num_a < acidMenor:\n",
    "        acidMenor = num_a\n",
    "        m2= cod\n",
    "    \n",
    "    if num_v < 2000:\n",
    "        totalMenor += num_v\n",
    "        div += 1\n",
    "    else:\n",
    "        total += num_v\n",
    "    \n",
    "    i += 1\n",
    "else:\n",
    "    mediaMenor = totalMenor / div\n",
    "    media = total / 5\n",
    "    print(\"Código: {}° Maior: {}\\nCódigo: {}° Menor: {}\\nMedia entre as cidades: {}\\nMedia acidentes acima de 2.000: {}\".format(\n",
    "        m,acidMaior,m2,acidMenor,media,mediaMenor))"
   ]
  },
  {
   "cell_type": "markdown",
   "metadata": {},
   "source": [
    "25 Faça um programa que receba o valor de uma dívida e mostre uma tabela com\n",
    "os seguintes dados: valor da dívida, valor dos juros, quantidade de parcelas e valor\n",
    "da parcela.\n",
    "Os juros e a quantidade de parcelas seguem a tabela abaixo:\n"
   ]
  },
  {
   "cell_type": "code",
   "execution_count": null,
   "metadata": {},
   "outputs": [],
   "source": [
    "vd = float(input(\"Digite o valor da dívida \"))\n",
    "qp = float(input(\"Digite a quantidade de parcelas \"))\n",
    "\n",
    "if qp == 1:\n",
    "    vj = 0\n",
    "    vp = vd\n",
    "elif qp == 3:\n",
    "    vj = 10\n",
    "    vp = vd * vj/100\n",
    "elif qp == 6:\n",
    "    vj = 15\n",
    "    vp = vd * vj/100\n",
    "elif qp == 9:\n",
    "    vj = 20\n",
    "    vp = vd * vj/100\n",
    "else:\n",
    "    vj = 25\n",
    "    vp = vd * vj/100\n",
    "\n",
    "print(\"Valor da Dívida: R$ {} Valor dos Juros: R$ {} Quantidade de Parcelas {} Valor da Parcela R$ {}\".\n",
    "     format(vd,vj,qp,vp))"
   ]
  },
  {
   "cell_type": "markdown",
   "metadata": {},
   "source": [
    "26 Faça um programa que mostre os n termos da Série a seguir: S = 1/1 + 2/3 + 3/5 + 4/7 + 5/9 + ... + n/m. Imprima no final a soma da série."
   ]
  },
  {
   "cell_type": "code",
   "execution_count": null,
   "metadata": {},
   "outputs": [],
   "source": [
    "n = int(input(\"entre com o valor de n: \"))\n",
    "s = 1/n + (2/(n-1)) + (3/(n-2)) + ((n-1)/2) + n\n",
    "print(s)"
   ]
  },
  {
   "cell_type": "code",
   "execution_count": null,
   "metadata": {},
   "outputs": [],
   "source": []
  }
 ],
 "metadata": {
  "kernelspec": {
   "display_name": "Python 3",
   "language": "python",
   "name": "python3"
  }
 },
 "nbformat": 4,
 "nbformat_minor": 2
}
